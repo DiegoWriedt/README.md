{
 "cells": [
  {
   "cell_type": "code",
   "execution_count": 1,
   "id": "57de0caa",
   "metadata": {},
   "outputs": [],
   "source": [
    "import pandas as pd\n",
    "import numpy as np\n",
    "import seaborn as sns\n",
    "from math import factorial\n",
    "import plotly.express as px\n",
    "import math as mt\n",
    "import matplotlib.pyplot as plt"
   ]
  },
  {
   "cell_type": "code",
   "execution_count": 2,
   "id": "44bbd16e",
   "metadata": {},
   "outputs": [],
   "source": [
    "df = pd.read_csv('/home/codespace/README.md/README.md-1/vehicles_us.csv')"
   ]
  },
  {
   "cell_type": "code",
   "execution_count": 3,
   "id": "635c707e",
   "metadata": {},
   "outputs": [
    {
     "name": "stdout",
     "output_type": "stream",
     "text": [
      "<class 'pandas.core.frame.DataFrame'>\n",
      "RangeIndex: 51525 entries, 0 to 51524\n",
      "Data columns (total 13 columns):\n",
      " #   Column        Non-Null Count  Dtype         \n",
      "---  ------        --------------  -----         \n",
      " 0   price         51525 non-null  int64         \n",
      " 1   model_year    51525 non-null  Int64         \n",
      " 2   model         51525 non-null  object        \n",
      " 3   condition     51525 non-null  object        \n",
      " 4   cylinders     51525 non-null  Int64         \n",
      " 5   fuel          51525 non-null  object        \n",
      " 6   odometer      43633 non-null  Int64         \n",
      " 7   transmission  51525 non-null  object        \n",
      " 8   type          51525 non-null  object        \n",
      " 9   paint_color   51525 non-null  object        \n",
      " 10  is_4wd        51525 non-null  bool          \n",
      " 11  date_posted   51525 non-null  datetime64[ns]\n",
      " 12  days_listed   51525 non-null  int64         \n",
      "dtypes: Int64(3), bool(1), datetime64[ns](1), int64(2), object(6)\n",
      "memory usage: 4.9+ MB\n"
     ]
    }
   ],
   "source": [
    "df['model_year'] = pd.to_numeric(df['model_year'], errors='coerce').fillna(0).astype('Int64')\n",
    "df['cylinders'] = pd.to_numeric(df['cylinders'], errors='coerce').fillna(0).astype('Int64')\n",
    "df['odometer'] = pd.to_numeric(df['odometer'], errors='coerce').astype('Int64')\n",
    "df['paint_color'] = df['paint_color'].fillna('Unknown')\n",
    "df['is_4wd'] = df['is_4wd'].fillna(0).astype(bool)\n",
    "df['date_posted'] = pd.to_datetime(df['date_posted'], format='%Y-%m-%d')\n",
    "\n",
    "\n",
    "df.info()"
   ]
  },
  {
   "cell_type": "code",
   "execution_count": 4,
   "id": "f98400d5",
   "metadata": {},
   "outputs": [],
   "source": [
    "df.to_csv('/home/codespace/README.md/README.md-1/vehicles_us_clean.csv')"
   ]
  }
 ],
 "metadata": {
  "kernelspec": {
   "display_name": "Python 3",
   "language": "python",
   "name": "python3"
  },
  "language_info": {
   "codemirror_mode": {
    "name": "ipython",
    "version": 3
   },
   "file_extension": ".py",
   "mimetype": "text/x-python",
   "name": "python",
   "nbconvert_exporter": "python",
   "pygments_lexer": "ipython3",
   "version": "3.12.1"
  }
 },
 "nbformat": 4,
 "nbformat_minor": 5
}
